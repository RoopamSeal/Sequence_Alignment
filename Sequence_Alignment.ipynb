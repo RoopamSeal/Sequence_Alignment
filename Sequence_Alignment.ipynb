{
  "nbformat": 4,
  "nbformat_minor": 0,
  "metadata": {
    "colab": {
      "provenance": []
    },
    "kernelspec": {
      "name": "python3",
      "display_name": "Python 3"
    },
    "language_info": {
      "name": "python"
    }
  },
  "cells": [
    {
      "cell_type": "markdown",
      "source": [
        "# Global Alignment using Pandas\n",
        "\n",
        "Here I have used the pandas library to iterate throught the nucleotide sequences to acheive the best possible alignment. It provides the score matrix and the best possible alignment."
      ],
      "metadata": {
        "id": "v-wjon7DvnTr"
      }
    },
    {
      "cell_type": "code",
      "source": [
        "import pandas as pd\n",
        "def global_alignment(seq1, seq2, match_score=1, mismatch_score=-1, gap_penalty=-1):\n",
        "    # Initialize the score matrix\n",
        "    score_matrix = [[0] * (len(seq2) + 1) for _ in range(len(seq1) + 1)]\n",
        "\n",
        "    # Initialize the traceback matrix\n",
        "    traceback = [[0] * (len(seq2) + 1) for _ in range(len(seq1) + 1)]\n",
        "\n",
        "    # Initialize the first row and column\n",
        "    for i in range(1, len(seq1) + 1):\n",
        "        score_matrix[i][0] = gap_penalty * i\n",
        "        traceback[i][0] = 'U'\n",
        "    for j in range(1, len(seq2) + 1):\n",
        "        score_matrix[0][j] = gap_penalty * j\n",
        "        traceback[0][j] = 'L'\n",
        "\n",
        "    # Fill in the score and traceback matrices\n",
        "    for i in range(1, len(seq1) + 1):\n",
        "        for j in range(1, len(seq2) + 1):\n",
        "            match = score_matrix[i - 1][j - 1] + (match_score if seq1[i - 1] == seq2[j - 1] else mismatch_score)\n",
        "            delete = score_matrix[i - 1][j] + gap_penalty\n",
        "            insert = score_matrix[i][j - 1] + gap_penalty\n",
        "            score_matrix[i][j] = max(match, delete, insert)\n",
        "            if score_matrix[i][j] == match:\n",
        "                traceback[i][j] = 'D'\n",
        "            elif score_matrix[i][j] == delete:\n",
        "                traceback[i][j] = 'U'\n",
        "            else:\n",
        "                traceback[i][j] = 'L'\n",
        "\n",
        "    # Traceback to find the alignment\n",
        "    aligned_seq1 = ''\n",
        "    aligned_seq2 = ''\n",
        "    i, j = len(seq1), len(seq2)\n",
        "    while i > 0 or j > 0:\n",
        "        if traceback[i][j] == 'D':\n",
        "            aligned_seq1 = seq1[i - 1] + aligned_seq1\n",
        "            aligned_seq2 = seq2[j - 1] + aligned_seq2\n",
        "            i -= 1\n",
        "            j -= 1\n",
        "        elif traceback[i][j] == 'U':\n",
        "            aligned_seq1 = seq1[i - 1] + aligned_seq1\n",
        "            aligned_seq2 = '-' + aligned_seq2\n",
        "            i -= 1\n",
        "        else:\n",
        "            aligned_seq1 = '-' + aligned_seq1\n",
        "            aligned_seq2 = seq2[j - 1] + aligned_seq2\n",
        "            j -= 1\n",
        "\n",
        "    return score_matrix, aligned_seq1, aligned_seq2\n",
        "\n",
        "def print_matrix(matrix):\n",
        "    df = pd.DataFrame(score_matrix)\n",
        "    print(df.to_string(index=False, header=False))\n",
        "\n",
        "\n",
        "\n",
        "def print_alignment(seq1, seq2, aligned_seq1, aligned_seq2):\n",
        "    print(\"Sequence 1:\", seq1)\n",
        "    print(\"Sequence 2:\", seq2)\n",
        "    print(\"Aligned Sequence 1:\", aligned_seq1)\n",
        "    print(\"Aligned Sequence 2:\", aligned_seq2)\n",
        "\n",
        "seq2 = \"AGGGAAATTAACCCCAA\"\n",
        "seq1 = \"ATGCCTTAAGGAATT\"\n",
        "\n",
        "score_matrix, aligned_seq1, aligned_seq2 = global_alignment(seq1, seq2)\n",
        "print(\"Score Matrix:\")\n",
        "print_matrix(score_matrix)\n",
        "print(\"\\nBest Possible Alignment:\")\n",
        "print_alignment(seq1, seq2, aligned_seq1, aligned_seq2)"
      ],
      "metadata": {
        "colab": {
          "base_uri": "https://localhost:8080/"
        },
        "id": "AsCcN-JBnwoL",
        "outputId": "1b3fb675-fed6-4b94-ffb5-10386b44b7b2"
      },
      "execution_count": 15,
      "outputs": [
        {
          "output_type": "stream",
          "name": "stdout",
          "text": [
            "Score Matrix:\n",
            "  0  -1  -2 -3 -4 -5 -6 -7 -8 -9 -10 -11 -12 -13 -14 -15 -16 -17\n",
            " -1   1   0 -1 -2 -3 -4 -5 -6 -7  -8  -9 -10 -11 -12 -13 -14 -15\n",
            " -2   0   0 -1 -2 -3 -4 -5 -4 -5  -6  -7  -8  -9 -10 -11 -12 -13\n",
            " -3  -1   1  1  0 -1 -2 -3 -4 -5  -6  -7  -8  -9 -10 -11 -12 -13\n",
            " -4  -2   0  0  0 -1 -2 -3 -4 -5  -6  -7  -6  -7  -8  -9 -10 -11\n",
            " -5  -3  -1 -1 -1 -1 -2 -3 -4 -5  -6  -7  -6  -5  -6  -7  -8  -9\n",
            " -6  -4  -2 -2 -2 -2 -2 -3 -2 -3  -4  -5  -6  -6  -6  -7  -8  -9\n",
            " -7  -5  -3 -3 -3 -3 -3 -3 -2 -1  -2  -3  -4  -5  -6  -7  -8  -9\n",
            " -8  -6  -4 -4 -4 -2 -2 -2 -3 -2   0  -1  -2  -3  -4  -5  -6  -7\n",
            " -9  -7  -5 -5 -5 -3 -1 -1 -2 -3  -1   1   0  -1  -2  -3  -4  -5\n",
            "-10  -8  -6 -4 -4 -4 -2 -2 -2 -3  -2   0   0  -1  -2  -3  -4  -5\n",
            "-11  -9  -7 -5 -3 -4 -3 -3 -3 -3  -3  -1  -1  -1  -2  -3  -4  -5\n",
            "-12 -10  -8 -6 -4 -2 -3 -2 -3 -4  -2  -2  -2  -2  -2  -3  -2  -3\n",
            "-13 -11  -9 -7 -5 -3 -1 -2 -3 -4  -3  -1  -2  -3  -3  -3  -2  -1\n",
            "-14 -12 -10 -8 -6 -4 -2 -2 -1 -2  -3  -2  -2  -3  -4  -4  -3  -2\n",
            "-15 -13 -11 -9 -7 -5 -3 -3 -1  0  -1  -2  -3  -3  -4  -5  -4  -3\n",
            "\n",
            "Best Possible Alignment:\n",
            "Sequence 1: ATGCCTTAAGGAATT\n",
            "Sequence 2: AGGGAAATTAACCCCAA\n",
            "Aligned Sequence 1: A-TG-CCTTAA--GGAATT\n",
            "Aligned Sequence 2: AGGGAAATTAACCCCAA--\n"
          ]
        }
      ]
    },
    {
      "cell_type": "markdown",
      "source": [
        "# Multiple Sequence Alignment\n"
      ],
      "metadata": {
        "id": "xi9Y4nl7xCe3"
      }
    },
    {
      "cell_type": "code",
      "source": [
        "!pip install biopython      #importing the necessary libraries"
      ],
      "metadata": {
        "id": "ezKiW2Qbpjfi",
        "colab": {
          "base_uri": "https://localhost:8080/"
        },
        "outputId": "e313f176-47fc-40ba-fd60-89957d3e20b1"
      },
      "execution_count": 16,
      "outputs": [
        {
          "output_type": "stream",
          "name": "stdout",
          "text": [
            "Requirement already satisfied: biopython in /usr/local/lib/python3.10/dist-packages (1.83)\n",
            "Requirement already satisfied: numpy in /usr/local/lib/python3.10/dist-packages (from biopython) (1.25.2)\n"
          ]
        }
      ]
    },
    {
      "cell_type": "code",
      "source": [
        "import numpy as np\n",
        "import pandas as pd\n",
        "from Bio import SeqIO\n",
        "import random"
      ],
      "metadata": {
        "id": "ifKGykKntV2M"
      },
      "execution_count": 17,
      "outputs": []
    },
    {
      "cell_type": "code",
      "source": [
        "def initial_population(n_initial_population):                                   # the protein sequences in FASTA format were imported in the code\n",
        "    length = []                                                                 # SeqTO helps read the FASTA files and we can thus align the protein sequences\n",
        "    sequences = []\n",
        "    for record in SeqIO.parse(\"/content/Proteins.txt\", \"fasta\"):\n",
        "        length.append(len(record.seq))\n",
        "        sequences.append(str(record.seq))\n",
        "\n",
        "    max_len = max(length)\n",
        "    population = []\n",
        "    for n in range(n_initial_population):\n",
        "        alig_seq = sequences.copy()\n",
        "        for s in range(7):\n",
        "            need_gap = max_len - len(alig_seq[s])\n",
        "            random_point = random.sample(range(0, max_len), need_gap)\n",
        "            for p in random_point:\n",
        "                if len(alig_seq[s]) < max_len:\n",
        "                    r = random.randint(1, need_gap)\n",
        "                    alig_seq[s] = alig_seq[s][:p] + ('-' * r) + alig_seq[s][p:]\n",
        "                    need_gap = max_len - len(alig_seq[s])\n",
        "                if need_gap == 0:\n",
        "                  break\n",
        "        population.append(alig_seq)\n",
        "    return population, max_len"
      ],
      "metadata": {
        "id": "PnW6hF5ktf87"
      },
      "execution_count": 18,
      "outputs": []
    },
    {
      "cell_type": "code",
      "source": [
        "def calc_fitness(chromosome):\n",
        "    data = np.loadtxt(\"/content/PAM250.txt\", skiprows=1, dtype='str')\n",
        "    data = np.array(data[:-1, 1:-1], dtype=int)\n",
        "    names = ['A', 'R', 'N', 'D', 'C', 'Q', 'E', 'G', 'H', 'I', 'L', 'K', 'M', 'F', 'P', 'S', 'T', 'W', 'Y', 'V', 'B',\n",
        "             'J', 'Z', 'X']\n",
        "    PAM250 = pd.DataFrame(data, index=names, columns=names)\n",
        "\n",
        "    pairwise_score = []\n",
        "    for i in range(0, 6):\n",
        "        for j in range(i + 1, 7):\n",
        "            seq1 = chromosome[i]\n",
        "            seq2 = chromosome[j]\n",
        "\n",
        "            gaps = 0\n",
        "            weights = 0\n",
        "            for A, B in zip(seq1, seq2):\n",
        "                if A == '-' or B == '-':\n",
        "                    gaps -= 1\n",
        "                else:\n",
        "                    weights += PAM250[A][B]\n",
        "            pairwise_score.append((weights + gaps))\n",
        "\n",
        "    score = np.sum(pairwise_score)\n",
        "    return score"
      ],
      "metadata": {
        "id": "Ok3dyomkt8gb"
      },
      "execution_count": 19,
      "outputs": []
    },
    {
      "cell_type": "code",
      "source": [
        "def selection(population, n):\n",
        "    # Roulette Wheel Selection\n",
        "    selected = []\n",
        "    fitness_pop = []\n",
        "    pop_size = len(population)\n",
        "    for p in range(pop_size):\n",
        "        fitness_pop.append(calc_fitness(population[p]))\n",
        "    sum_fitness = sum(fitness_pop)\n",
        "    normal_fitness = [f / sum_fitness for f in fitness_pop]\n",
        "\n",
        "    cumulative_fitness = []\n",
        "    start = 0\n",
        "    for norm in normal_fitness:\n",
        "        start += norm\n",
        "        cumulative_fitness.append(start)\n",
        "    # print('Cumulativ:',cumulative_fitness)\n",
        "    for c in range(n):\n",
        "        r = random.uniform(0, 1)\n",
        "        individual_number = 0\n",
        "        for score in cumulative_fitness:\n",
        "            if r <= score:\n",
        "                selected.append(population[individual_number])\n",
        "                break\n",
        "            individual_number += 1\n",
        "\n",
        "    return np.array(selected)\n"
      ],
      "metadata": {
        "id": "OR4mSFQ7t-8A"
      },
      "execution_count": 20,
      "outputs": []
    },
    {
      "cell_type": "code",
      "source": [
        "def parent_selection(selected):\n",
        "    return selected[np.random.randint(0, len(selected) - 1, 2)]"
      ],
      "metadata": {
        "id": "Zv-oSDcquFoh"
      },
      "execution_count": 21,
      "outputs": []
    },
    {
      "cell_type": "code",
      "source": [
        "def cross_over(parents, length):\n",
        "    # One Point Crossover\n",
        "    r = random.randint(2, length - 2)  # --> get random point\n",
        "    # Set rate 0.8\n",
        "    if random.random() <= 0.8:\n",
        "        offspring = {0: [], 1: []}\n",
        "\n",
        "        # Create First Offspring\n",
        "        for s1 in range(7):\n",
        "            ch1_part1 = parents[0][s1][:r]\n",
        "            ch1_count_without_gap_part1 = 0\n",
        "            for AA in ch1_part1:\n",
        "                if AA != '-':\n",
        "                    ch1_count_without_gap_part1 += 1\n",
        "\n",
        "            ch1_parent2_AA = str()\n",
        "            for AA in parents[1][s1]:\n",
        "                if AA != '-':\n",
        "                    ch1_parent2_AA += AA\n",
        "            ch1_parent2_AA = ch1_parent2_AA[ch1_count_without_gap_part1:]\n",
        "            ch1_count_without_gap_part2 = len(ch1_parent2_AA)\n",
        "\n",
        "            ch1_count_all_part2 = 0\n",
        "            reverse_part2 = str()\n",
        "            for AA in parents[1][s1][::-1]:\n",
        "                reverse_part2 += AA\n",
        "                if AA != '-':\n",
        "                    ch1_count_all_part2 += 1\n",
        "                if ch1_count_all_part2 == ch1_count_without_gap_part2:\n",
        "                    break\n",
        "            ch1_part2 = reverse_part2[::-1]\n",
        "            remain_len = length - len(ch1_part1 + ch1_part2)\n",
        "            if remain_len > 0:\n",
        "                ch1_part2 = ('-' * remain_len) + ch1_part2\n",
        "            elif remain_len < 0:\n",
        "                extra = -(remain_len)\n",
        "                ch1_part2 = ch1_part2.replace('-', '', extra)\n",
        "            offspring[0].append(ch1_part1 + ch1_part2)\n",
        "\n",
        "        # Create Second Offspring\n",
        "        for s2 in range(7):\n",
        "            ch2_part2 = parents[0][s2][r:]\n",
        "            ch2_count_without_gap_part2 = 0\n",
        "            for AA in ch2_part2:\n",
        "                if AA != '-':\n",
        "                    ch2_count_without_gap_part2 += 1\n",
        "            ch2_parent2_AA = str()\n",
        "            num_AA = 0\n",
        "            for AA in parents[1][s2]:\n",
        "                if AA != '-':\n",
        "                    ch2_parent2_AA += AA\n",
        "                    num_AA += 1\n",
        "            need_AA_part1 = num_AA - ch2_count_without_gap_part2\n",
        "            pr2 = ch2_parent2_AA[:need_AA_part1]\n",
        "            ch2_count_without_gap_part1 = len(pr2)\n",
        "\n",
        "            ch2_part1 = str()\n",
        "            count_p1 = 0\n",
        "            for AA in parents[1][s2]:\n",
        "                ch2_part1 += AA\n",
        "                if AA != '-':\n",
        "                    count_p1 += 1\n",
        "                if count_p1 == ch2_count_without_gap_part1:\n",
        "                    break\n",
        "            need_len = length - len(ch2_part1 + ch2_part2)\n",
        "            if need_len > 0:\n",
        "                ch2_part1 = ch2_part1 + ('-' * need_len)\n",
        "            elif need_len < 0:\n",
        "                extra = -(need_len)\n",
        "                ch2_part1 = ch2_part1.replace('-', '', extra)\n",
        "\n",
        "            offspring[1].append(ch2_part1 + ch2_part2)\n",
        "        # Return Best (fitness) Child\n",
        "        child1_fit = calc_fitness(offspring[0])\n",
        "        child2_fit = calc_fitness(offspring[1])\n",
        "        if child1_fit > child2_fit:\n",
        "            return offspring[0]\n",
        "        else:\n",
        "            return offspring[1]\n",
        "\n",
        "    else:\n",
        "        # Return a random Parent as Child\n",
        "        rand_parent = random.randint(0, 1)\n",
        "        return parents[rand_parent]"
      ],
      "metadata": {
        "id": "uaaH9yvIuRc4"
      },
      "execution_count": 22,
      "outputs": []
    },
    {
      "cell_type": "code",
      "source": [
        "def mutation(offspring):\n",
        "    # Swap mutation\n",
        "    if random.random() <= 0.2:\n",
        "        mutate_offspring = []\n",
        "        for s in range(7):\n",
        "            child = list(offspring[s])\n",
        "            for i in range(len(child) - 1):\n",
        "                AA_i = child[i]\n",
        "                AA_i_1 = child[i + 1]\n",
        "                if AA_i != '-' and AA_i_1 == '-':\n",
        "                    child[i + 1] = AA_i\n",
        "                    child[i] = AA_i_1\n",
        "                    break\n",
        "            mutate_offspring.append(''.join(child))\n",
        "        return mutate_offspring\n",
        "    else:\n",
        "        return offspring"
      ],
      "metadata": {
        "id": "3KzfTx6luf-1"
      },
      "execution_count": 23,
      "outputs": []
    },
    {
      "cell_type": "code",
      "source": [
        "def update_population(population, n):\n",
        "    population = np.array(population)\n",
        "    fitness = np.zeros(len(population), dtype=np.int32)\n",
        "    for idx, ch in enumerate(population):\n",
        "        fitness[idx] = calc_fitness(ch)\n",
        "    argsort_fitness = np.argsort(fitness)[-n:]\n",
        "    return population[argsort_fitness].tolist()"
      ],
      "metadata": {
        "id": "GXP2MuDAuj-4"
      },
      "execution_count": 24,
      "outputs": []
    },
    {
      "cell_type": "code",
      "source": [
        "if __name__ == '__main__':\n",
        "    n_population = 50\n",
        "    population, length = initial_population(n_population)\n",
        "    iteration = 10\n",
        "    n_selection = 40\n",
        "    print('Iteration:')\n",
        "    for i in range(iteration):\n",
        "        print('\\t', i)\n",
        "        selected = selection(population, n_selection)\n",
        "        childs = []\n",
        "        for _ in range(0, len(selected), 2):\n",
        "            parents = parent_selection(selected)\n",
        "            offspring = cross_over(parents, length)\n",
        "            mutate_offspring = mutation(offspring)\n",
        "\n",
        "            childs += [mutate_offspring]\n",
        "        population += childs\n",
        "        population = update_population(population, n_population)\n",
        "\n",
        "    fitness_pop = []\n",
        "    for chrom in population:\n",
        "        fitness_pop.append(calc_fitness(chrom))\n",
        "\n",
        "    best_match_idx = np.where(fitness_pop == np.max(fitness_pop))[0][0]\n",
        "\n",
        "    print('\\n Best multiple alignment:')\n",
        "    # final = []\n",
        "    for line in population[best_match_idx]:\n",
        "        print(line)\n",
        "\n",
        "    print('Best fitness:', fitness_pop[best_match_idx])"
      ],
      "metadata": {
        "colab": {
          "base_uri": "https://localhost:8080/"
        },
        "id": "-ZPeset2uo8J",
        "outputId": "e89ecc47-9f44-49ec-a564-5726d243adab"
      },
      "execution_count": 25,
      "outputs": [
        {
          "output_type": "stream",
          "name": "stdout",
          "text": [
            "Iteration:\n",
            "\t 0\n",
            "\t 1\n",
            "\t 2\n",
            "\t 3\n",
            "\t 4\n",
            "\t 5\n",
            "\t 6\n",
            "\t 7\n",
            "\t 8\n",
            "\t 9\n",
            "\n",
            " Best multiple alignment:\n",
            "MNSLVSWQLLLFLCATHFGEPLEKVASVGNSRPTGQQ-L-ESLGLLAPGEQSLPCTERKPAATARLSR--------RGTSLSPPPESSGSP-QQPGLSAPHSRQIPAPQGAVLVQREKDLPNYNWNSFGLRFGKREAAPGNHGRSAGRG\n",
            "MISMASWQLLLLLCVATYGEPLAKVKPGSTGQQSGPQELVNAWEKESRYA-E----------------SKPGSAGLRARRSSPCPPVEGPAGRQRPLCASRSRLIPAPRGA---VLVQREKDLSTYNW---NSFGLRYGRRQAARAARG\n",
            "MMLLTVILMLSVARVHTNPSGHFQYYLEDETPEETSLRVLRGTDTRPTDGSPPSKLSALFSMGAGPQ-K----NTWWWSPESPYTKRRQNVA----------------------YYNLNSFGLRYGKREQDMLTRLKQKSPVK------\n",
            "MSSLCLFLFLLGIHLGRSDHTAKNTDELY-SQVPGKSQWLGS------------------LLCPEKVPTTRRAEQMPVLSLLCRRKKSLSTGHPWSTDSLLPSRSISAPEGEF-LVQREKDLSTYNWNSFGLRYGKRGSGSENSKTKVW\n",
            "MRSSVYWQLLLLLSVSPFGETSDKFAPVENPGRTGTSSLSQEASSSDFSALGQPGRLLAHLIPWEGRPQCLEKPEQTGQTQRLAMLCPSDEASDPLWPGLCPTRSRLITAPQGALLVEREKDMSTYNWNSFGLRYGKRQTNRGKARVPA\n",
            "MNTRALIL-FMSAMVSQSTAMRAILTDMDTPEPMPDPKPRFLSMERRQFEEPSASDDASLCFFIQEKD---------ETSQISCKHRLARSKFNYNPFGL--------------RFGKRNEATTSDSDRLKHKHLLPMMLYLRKQLETS\n",
            "MLLLLLLTLVISQHAVGGTMFRGDEEGLELEEIGGPETSYPEGDPREKSESYELIPSADTLSWPGRSNICYFIREGRLESQLSCHLRFTRSKFNFNPFGLRFGKRARGDANG-EGLAP-----LVPRRLLPFLLKLKDKRCSESVGESC\n",
            "Best fitness: -1305\n"
          ]
        }
      ]
    }
  ]
}